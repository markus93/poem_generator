{
 "cells": [
  {
   "cell_type": "markdown",
   "metadata": {},
   "source": [
    "# Data Preprocessing"
   ]
  },
  {
   "cell_type": "markdown",
   "metadata": {},
   "source": [
    "## Poemhunter data"
   ]
  },
  {
   "cell_type": "code",
   "execution_count": null,
   "metadata": {
    "collapsed": true
   },
   "outputs": [],
   "source": [
    "import io\n",
    "import json\n",
    "import pandas as pd\n",
    "import numpy as np\n",
    "\n",
    "file_ph=\"scrapy_poemhunter/top_poems.jl\"\n",
    "file_poets=\"scrapy_poemhunter/poets.jl\""
   ]
  },
  {
   "cell_type": "markdown",
   "metadata": {},
   "source": [
    "Read in poems of top poets."
   ]
  },
  {
   "cell_type": "code",
   "execution_count": 10,
   "metadata": {},
   "outputs": [],
   "source": [
    "# To avoid new line symbols in data\n",
    "def jsonEscape(str):\n",
    "    return str.replace('\\n', \"\\\\n\")\n",
    "\n",
    "def read_to_df(file):\n",
    "    \n",
    "    with open(file, \"r\") as f:\n",
    "        l = []\n",
    "        i = 0\n",
    "        for line in f.readlines():\n",
    "            i += 1        \n",
    "            line = jsonEscape(line.strip())\n",
    "            l.append(json.loads(line))        \n",
    "\n",
    "        df =  pd.DataFrame(l)\n",
    "        # Join poem into one string (instead of list containing lines) \n",
    "        for i, poem in enumerate(df.poem):\n",
    "            df.iloc[i].poem = \"\\n\".join(poem)\n",
    "    \n",
    "    return df     \n",
    "        "
   ]
  },
  {
   "cell_type": "code",
   "execution_count": 11,
   "metadata": {},
   "outputs": [
    {
     "data": {
      "text/plain": [
       "(140320, 3)"
      ]
     },
     "execution_count": 11,
     "metadata": {},
     "output_type": "execute_result"
    }
   ],
   "source": [
    "df_poets = read_to_df(file_poets)\n",
    "df_poets.shape"
   ]
  },
  {
   "cell_type": "code",
   "execution_count": 13,
   "metadata": {},
   "outputs": [
    {
     "data": {
      "text/plain": [
       "(14388, 3)"
      ]
     },
     "execution_count": 13,
     "metadata": {},
     "output_type": "execute_result"
    }
   ],
   "source": [
    "df_poems = read_to_df(file_ph)\n",
    "df_poems.shape"
   ]
  },
  {
   "cell_type": "code",
   "execution_count": 21,
   "metadata": {},
   "outputs": [
    {
     "data": {
      "text/html": [
       "<div>\n",
       "<style>\n",
       "    .dataframe thead tr:only-child th {\n",
       "        text-align: right;\n",
       "    }\n",
       "\n",
       "    .dataframe thead th {\n",
       "        text-align: left;\n",
       "    }\n",
       "\n",
       "    .dataframe tbody tr th {\n",
       "        vertical-align: top;\n",
       "    }\n",
       "</style>\n",
       "<table border=\"1\" class=\"dataframe\">\n",
       "  <thead>\n",
       "    <tr style=\"text-align: right;\">\n",
       "      <th></th>\n",
       "      <th>author</th>\n",
       "      <th>poem</th>\n",
       "      <th>title</th>\n",
       "    </tr>\n",
       "  </thead>\n",
       "  <tbody>\n",
       "    <tr>\n",
       "      <th>0</th>\n",
       "      <td>Edgar Allan Poe</td>\n",
       "      <td>From childhood's hour I have not been\\nAs othe...</td>\n",
       "      <td>Alone - Poem by Edgar Allan Poe</td>\n",
       "    </tr>\n",
       "    <tr>\n",
       "      <th>1</th>\n",
       "      <td>Ambrose Bierce</td>\n",
       "      <td>In contact, lo! the flint and steel,\\nBy sharp...</td>\n",
       "      <td>Alone - Poem by Ambrose Bierce</td>\n",
       "    </tr>\n",
       "    <tr>\n",
       "      <th>2</th>\n",
       "      <td>Amy Louise Kerswell</td>\n",
       "      <td>Anger is bubbling away at me.\\nBurning a whole...</td>\n",
       "      <td>Anger Rages Inside - Poem by Amy Louise Kerswell</td>\n",
       "    </tr>\n",
       "    <tr>\n",
       "      <th>3</th>\n",
       "      <td>Sara Teasdale</td>\n",
       "      <td>I am alone, in spite of love,\\nIn spite of all...</td>\n",
       "      <td>Alone - Poem by Sara Teasdale</td>\n",
       "    </tr>\n",
       "    <tr>\n",
       "      <th>4</th>\n",
       "      <td>Davina Caddell</td>\n",
       "      <td>His anger is a hard summer storm,\\nUnpredictab...</td>\n",
       "      <td>Anger - Poem by Davina Caddell</td>\n",
       "    </tr>\n",
       "  </tbody>\n",
       "</table>\n",
       "</div>"
      ],
      "text/plain": [
       "                author                                               poem  \\\n",
       "0      Edgar Allan Poe  From childhood's hour I have not been\\nAs othe...   \n",
       "1       Ambrose Bierce  In contact, lo! the flint and steel,\\nBy sharp...   \n",
       "2  Amy Louise Kerswell  Anger is bubbling away at me.\\nBurning a whole...   \n",
       "3        Sara Teasdale  I am alone, in spite of love,\\nIn spite of all...   \n",
       "4       Davina Caddell  His anger is a hard summer storm,\\nUnpredictab...   \n",
       "\n",
       "                                              title  \n",
       "0                   Alone - Poem by Edgar Allan Poe  \n",
       "1                    Alone - Poem by Ambrose Bierce  \n",
       "2  Anger Rages Inside - Poem by Amy Louise Kerswell  \n",
       "3                     Alone - Poem by Sara Teasdale  \n",
       "4                    Anger - Poem by Davina Caddell  "
      ]
     },
     "execution_count": 21,
     "metadata": {},
     "output_type": "execute_result"
    }
   ],
   "source": [
    "df_poems.head()"
   ]
  },
  {
   "cell_type": "markdown",
   "metadata": {},
   "source": [
    "#### Join data sets"
   ]
  },
  {
   "cell_type": "code",
   "execution_count": 217,
   "metadata": {
    "collapsed": true
   },
   "outputs": [],
   "source": [
    "df_ph = pd.concat([df_poets, df_poems])"
   ]
  },
  {
   "cell_type": "markdown",
   "metadata": {},
   "source": [
    "#### Remove duplicates"
   ]
  },
  {
   "cell_type": "code",
   "execution_count": 218,
   "metadata": {},
   "outputs": [
    {
     "name": "stdout",
     "output_type": "stream",
     "text": [
      "(149496, 3)\n"
     ]
    }
   ],
   "source": [
    "df_ph = df_ph.drop_duplicates()\n",
    "print(df_ph.shape)"
   ]
  },
  {
   "cell_type": "markdown",
   "metadata": {},
   "source": [
    "Almost 150k poets at first (after removing duplicates)"
   ]
  },
  {
   "cell_type": "code",
   "execution_count": 219,
   "metadata": {},
   "outputs": [
    {
     "data": {
      "text/html": [
       "<div>\n",
       "<style>\n",
       "    .dataframe thead tr:only-child th {\n",
       "        text-align: right;\n",
       "    }\n",
       "\n",
       "    .dataframe thead th {\n",
       "        text-align: left;\n",
       "    }\n",
       "\n",
       "    .dataframe tbody tr th {\n",
       "        vertical-align: top;\n",
       "    }\n",
       "</style>\n",
       "<table border=\"1\" class=\"dataframe\">\n",
       "  <thead>\n",
       "    <tr style=\"text-align: right;\">\n",
       "      <th></th>\n",
       "      <th>author</th>\n",
       "      <th>poem</th>\n",
       "      <th>title</th>\n",
       "    </tr>\n",
       "  </thead>\n",
       "  <tbody>\n",
       "    <tr>\n",
       "      <th>0</th>\n",
       "      <td>Sylvia Plath</td>\n",
       "      <td>Stalemated their armies stood, with tottering ...</td>\n",
       "      <td>The Snowman On The Moor - Poem by Sylvia Plath</td>\n",
       "    </tr>\n",
       "    <tr>\n",
       "      <th>1</th>\n",
       "      <td>Sylvia Plath</td>\n",
       "      <td>No map traces the street\\nWhere those two slee...</td>\n",
       "      <td>The Sleepers - Poem by Sylvia Plath</td>\n",
       "    </tr>\n",
       "    <tr>\n",
       "      <th>2</th>\n",
       "      <td>Sylvia Plath</td>\n",
       "      <td>When night comes black\\nSuch royal dreams beck...</td>\n",
       "      <td>The Shrike - Poem by Sylvia Plath</td>\n",
       "    </tr>\n",
       "    <tr>\n",
       "      <th>3</th>\n",
       "      <td>Khalil Gibran</td>\n",
       "      <td>Your children are not your children.\\nThey are...</td>\n",
       "      <td>Your Children - Poem by Khalil Gibran</td>\n",
       "    </tr>\n",
       "    <tr>\n",
       "      <th>4</th>\n",
       "      <td>Maya Angelou</td>\n",
       "      <td>A free bird leaps on the back\\nOf the wind and...</td>\n",
       "      <td>I know why the caged bird sings - Poem by Maya...</td>\n",
       "    </tr>\n",
       "  </tbody>\n",
       "</table>\n",
       "</div>"
      ],
      "text/plain": [
       "          author                                               poem  \\\n",
       "0   Sylvia Plath  Stalemated their armies stood, with tottering ...   \n",
       "1   Sylvia Plath  No map traces the street\\nWhere those two slee...   \n",
       "2   Sylvia Plath  When night comes black\\nSuch royal dreams beck...   \n",
       "3  Khalil Gibran  Your children are not your children.\\nThey are...   \n",
       "4   Maya Angelou  A free bird leaps on the back\\nOf the wind and...   \n",
       "\n",
       "                                               title  \n",
       "0     The Snowman On The Moor - Poem by Sylvia Plath  \n",
       "1                The Sleepers - Poem by Sylvia Plath  \n",
       "2                  The Shrike - Poem by Sylvia Plath  \n",
       "3              Your Children - Poem by Khalil Gibran  \n",
       "4  I know why the caged bird sings - Poem by Maya...  "
      ]
     },
     "execution_count": 219,
     "metadata": {},
     "output_type": "execute_result"
    }
   ],
   "source": [
    "df_poets.head()"
   ]
  },
  {
   "cell_type": "markdown",
   "metadata": {},
   "source": [
    "#### Drop non-english poems\n",
    "Get one poem per each poet - to check if poems are in english"
   ]
  },
  {
   "cell_type": "code",
   "execution_count": 220,
   "metadata": {},
   "outputs": [
    {
     "data": {
      "text/plain": [
       "(149496, 3)"
      ]
     },
     "execution_count": 220,
     "metadata": {},
     "output_type": "execute_result"
    }
   ],
   "source": [
    "df_ph.shape"
   ]
  },
  {
   "cell_type": "code",
   "execution_count": 221,
   "metadata": {},
   "outputs": [
    {
     "data": {
      "text/plain": [
       "42"
      ]
     },
     "execution_count": 221,
     "metadata": {},
     "output_type": "execute_result"
    }
   ],
   "source": [
    "authors = \"Abdul Wahab, Ahmad Faraz, Alfonsina Storni, Andre Marie de Chenier, Antonio Machado, Ashok Chakradhar, \\\n",
    "Bijay Kant Dubey, Christian Winther, Donald Bruce Dawe, Edith Wharton, Emil Aarestrup, Emile Verhaeren, Francisco Balagtas, \\\n",
    "Gajanan Mishra, Geoffrey Chaucer, Goswami Tulsidas, Hans Christian Andersen, Harivansh Rai Bachchan, Hasmukh Amathalal, \\\n",
    "Henry VIII, King of England, Hiren Bhattacharyya, Jacques Prevert, James Arlington Wright, Jasimuddin, Jhaverchand Meghani, \\\n",
    "John Milton, Kamini Roy, Kumar Vishwas, Kuvempu, Michael Madhusudan Dutta, Paul Valery, Rahat Indori, Ronjoy Brahma, \\\n",
    "Ruben Dario, Rudra Mohammad Shahidullah, Sayeed Abubakar, Shakti Chattopadhay, Sophus Niels Christen Claussen, \\\n",
    "Victor Marie Hugo, Viggo Stuckenberg, Wallace Stevens\"\n",
    "authors = authors.split(\", \")\n",
    "len(authors)"
   ]
  },
  {
   "cell_type": "code",
   "execution_count": 222,
   "metadata": {
    "collapsed": true
   },
   "outputs": [],
   "source": [
    "for auth in authors:\n",
    "    df_ph = df_ph[df_ph.author != auth]"
   ]
  },
  {
   "cell_type": "code",
   "execution_count": 223,
   "metadata": {},
   "outputs": [
    {
     "data": {
      "text/plain": [
       "(99347, 3)"
      ]
     },
     "execution_count": 223,
     "metadata": {},
     "output_type": "execute_result"
    }
   ],
   "source": [
    "df_ph.shape"
   ]
  },
  {
   "cell_type": "markdown",
   "metadata": {},
   "source": [
    "Left with about 100k poems after removing non-english writers."
   ]
  },
  {
   "cell_type": "code",
   "execution_count": 224,
   "metadata": {},
   "outputs": [
    {
     "data": {
      "text/plain": [
       "4023"
      ]
     },
     "execution_count": 224,
     "metadata": {},
     "output_type": "execute_result"
    }
   ],
   "source": [
    "len(df_ph.groupby('author').first())"
   ]
  },
  {
   "cell_type": "code",
   "execution_count": 225,
   "metadata": {},
   "outputs": [
    {
     "data": {
      "text/plain": [
       "RoseAnn V. Shawiak       22667\n",
       "Lawrence S. Pertillar    17874\n",
       "Sandra Feldman            2524\n",
       "Emily Dickinson           1232\n",
       "Muzahidul Reza            1225\n",
       "Name: author, dtype: int64"
      ]
     },
     "execution_count": 225,
     "metadata": {},
     "output_type": "execute_result"
    }
   ],
   "source": [
    "df_ph.author.value_counts().head()"
   ]
  },
  {
   "cell_type": "markdown",
   "metadata": {},
   "source": [
    "Some poets had really many poems."
   ]
  },
  {
   "cell_type": "markdown",
   "metadata": {},
   "source": [
    "#### Take max 500 poems per author."
   ]
  },
  {
   "cell_type": "code",
   "execution_count": 226,
   "metadata": {
    "collapsed": true
   },
   "outputs": [],
   "source": [
    "df_ph = df_ph.groupby('author').head(500).reset_index(drop=True)"
   ]
  },
  {
   "cell_type": "code",
   "execution_count": 227,
   "metadata": {},
   "outputs": [
    {
     "data": {
      "text/plain": [
       "(54870, 3)"
      ]
     },
     "execution_count": 227,
     "metadata": {},
     "output_type": "execute_result"
    }
   ],
   "source": [
    "df_ph.shape"
   ]
  },
  {
   "cell_type": "markdown",
   "metadata": {},
   "source": [
    "After taking only top 500 poems of each author, to reduce bias towards one author, we are left with 55k poems."
   ]
  },
  {
   "cell_type": "markdown",
   "metadata": {},
   "source": [
    "#### Next reduce alphabet size of poems."
   ]
  },
  {
   "cell_type": "code",
   "execution_count": 228,
   "metadata": {
    "collapsed": true
   },
   "outputs": [],
   "source": [
    "poems_joined = \"\\n\\n\".join(df_ph.poem)"
   ]
  },
  {
   "cell_type": "code",
   "execution_count": 229,
   "metadata": {},
   "outputs": [
    {
     "data": {
      "text/plain": [
       "83532115"
      ]
     },
     "execution_count": 229,
     "metadata": {},
     "output_type": "execute_result"
    }
   ],
   "source": [
    "len(poems_joined)"
   ]
  },
  {
   "cell_type": "markdown",
   "metadata": {},
   "source": [
    "File contains originally 83 million characters."
   ]
  },
  {
   "cell_type": "code",
   "execution_count": 230,
   "metadata": {},
   "outputs": [
    {
     "data": {
      "text/plain": [
       "1234"
      ]
     },
     "execution_count": 230,
     "metadata": {},
     "output_type": "execute_result"
    }
   ],
   "source": [
    "len(''.join(set(poems_joined)))"
   ]
  },
  {
   "cell_type": "markdown",
   "metadata": {},
   "source": [
    "Many hieroglyphs in data and weird symbols (1234). So let's only leave poems with english alphabet and some punctuation."
   ]
  },
  {
   "cell_type": "markdown",
   "metadata": {},
   "source": [
    "Drop poems that have too many special symbols. Over 5% of the poem."
   ]
  },
  {
   "cell_type": "code",
   "execution_count": 231,
   "metadata": {},
   "outputs": [],
   "source": [
    "for idx, row in df_ph.iterrows():\n",
    "    poem = row.poem\n",
    "    poem_clean = re.sub('[^a-zA-Z0-9 \\t\\n\\.,\\\"\\';:\\-\\_<>!?()\\“”‘’—]', '', poem) # Sub all characters not listed here\n",
    "    length_score = len(poem_clean)/(len(poem)+0.01)  # Check if length of poem shortened too much\n",
    "    \n",
    "    poem_clean = re.sub('[“”‘’]', '\\\"', poem_clean)  # No need for 4 different quotation marks\n",
    "    \n",
    "    if(length_score < 0.95):\n",
    "        poem_clean = \"\"  # Dropping messed up the indexing\n",
    "\n",
    "    df_ph.loc[idx].poem = poem_clean  # Add cleaned poem to data\n",
    "        \n",
    "# Remove poems with empty bodies\n",
    "df_ph = df_ph[df_ph.poem != \"\"]"
   ]
  },
  {
   "cell_type": "markdown",
   "metadata": {},
   "source": [
    "Check alphabet size"
   ]
  },
  {
   "cell_type": "code",
   "execution_count": 236,
   "metadata": {},
   "outputs": [
    {
     "name": "stdout",
     "output_type": "stream",
     "text": [
      "80\n",
      "\t\n",
      " !\"'(),-.0123456789:;<>?ABCDEFGHIJKLMNOPQRSTUVWXYZ_abcdefghijklmnopqrstuvwxyz—\n"
     ]
    }
   ],
   "source": [
    "alphabet = ''.join(set(\"\\n\\n\".join(df_ph2.poem)))\n",
    "print(len(alphabet))\n",
    "print(\"\".join(sorted(alphabet)))"
   ]
  },
  {
   "cell_type": "markdown",
   "metadata": {},
   "source": [
    "Only 80 different characters left, meaning it is much easier to get reliable results. "
   ]
  },
  {
   "cell_type": "code",
   "execution_count": 233,
   "metadata": {},
   "outputs": [
    {
     "data": {
      "text/plain": [
       "(54676, 3)"
      ]
     },
     "execution_count": 233,
     "metadata": {},
     "output_type": "execute_result"
    }
   ],
   "source": [
    "df_ph.shape"
   ]
  },
  {
   "cell_type": "markdown",
   "metadata": {},
   "source": [
    "Lost 194 poems (mostly containing only hieroglyphs or foreign alphabet)."
   ]
  },
  {
   "cell_type": "markdown",
   "metadata": {},
   "source": [
    "#### Check how long are most of the lines of poems"
   ]
  },
  {
   "cell_type": "code",
   "execution_count": 163,
   "metadata": {
    "collapsed": true
   },
   "outputs": [],
   "source": [
    "poems_joined = \"\\n\\n\".join(df_ph.poem)"
   ]
  },
  {
   "cell_type": "code",
   "execution_count": 164,
   "metadata": {
    "collapsed": true
   },
   "outputs": [],
   "source": [
    "line = poems_joined.split('\\n')"
   ]
  },
  {
   "cell_type": "code",
   "execution_count": 166,
   "metadata": {},
   "outputs": [],
   "source": [
    "lines_len = [len(v) for v in line]"
   ]
  },
  {
   "cell_type": "code",
   "execution_count": 168,
   "metadata": {},
   "outputs": [
    {
     "data": {
      "text/plain": [
       "70.0"
      ]
     },
     "execution_count": 168,
     "metadata": {},
     "output_type": "execute_result"
    }
   ],
   "source": [
    "np.percentile(lines_len, 99)"
   ]
  },
  {
   "cell_type": "markdown",
   "metadata": {},
   "source": [
    "99 percent of verses are shorter than 70 characters."
   ]
  },
  {
   "cell_type": "markdown",
   "metadata": {},
   "source": [
    "#### Write data into the file."
   ]
  },
  {
   "cell_type": "markdown",
   "metadata": {},
   "source": [
    "Write into file cleaned poems"
   ]
  },
  {
   "cell_type": "code",
   "execution_count": 169,
   "metadata": {
    "collapsed": true
   },
   "outputs": [],
   "source": [
    "with open(\"poems_clean.txt\", \"w\", encoding=\"utf-8\") as g:\n",
    "    g.write(poems_joined)"
   ]
  },
  {
   "cell_type": "code",
   "execution_count": 170,
   "metadata": {},
   "outputs": [
    {
     "data": {
      "text/plain": [
       "83268427"
      ]
     },
     "execution_count": 170,
     "metadata": {},
     "output_type": "execute_result"
    }
   ],
   "source": [
    "len(poems_joined)"
   ]
  },
  {
   "cell_type": "markdown",
   "metadata": {},
   "source": [
    "54676 poems written using in total 83 million characters from alphabet of size 80 symbols."
   ]
  },
  {
   "cell_type": "markdown",
   "metadata": {},
   "source": [
    "## Subwords"
   ]
  },
  {
   "cell_type": "markdown",
   "metadata": {},
   "source": [
    "#### Tokenize data"
   ]
  },
  {
   "cell_type": "markdown",
   "metadata": {},
   "source": [
    "Add white space around special symbols."
   ]
  },
  {
   "cell_type": "code",
   "execution_count": 264,
   "metadata": {},
   "outputs": [
    {
     "data": {
      "text/plain": [
       "(54676, 3)"
      ]
     },
     "execution_count": 264,
     "metadata": {},
     "output_type": "execute_result"
    }
   ],
   "source": [
    "df_ph_bpe = df_ph.copy()\n",
    "df_ph_bpe.shape"
   ]
  },
  {
   "cell_type": "code",
   "execution_count": null,
   "metadata": {
    "collapsed": true
   },
   "outputs": [],
   "source": [
    "for idx, row in df_ph_bpe.iterrows():\n",
    "    poem = row.poem\n",
    "    poem_tok = re.sub('([\\t\\n\\.,\\\"\\';:\\-\\_<>!?()“”‘’—])', r' \\1 ', poem)  # Add whitespace around special symbols\n",
    "    poem_tok = re.sub(' {2,}', ' ', poem_tok)  # replace multiple spaces\n",
    "\n",
    "    df_ph_bpe.loc[idx].poem = poem_tok  # Add tokenized poem to data\n"
   ]
  },
  {
   "cell_type": "code",
   "execution_count": null,
   "metadata": {},
   "outputs": [],
   "source": [
    "df_ph_bpe.iloc[1].poem"
   ]
  },
  {
   "cell_type": "code",
   "execution_count": null,
   "metadata": {
    "collapsed": true
   },
   "outputs": [],
   "source": [
    "poems_joined_bpe = \"\\n\\n\".join(df_ph_bpe.poem)"
   ]
  },
  {
   "cell_type": "code",
   "execution_count": null,
   "metadata": {
    "collapsed": true
   },
   "outputs": [],
   "source": []
  },
  {
   "cell_type": "markdown",
   "metadata": {},
   "source": [
    "### BPE"
   ]
  },
  {
   "cell_type": "markdown",
   "metadata": {},
   "source": [
    "Bype-pair encoding to split words into subwords."
   ]
  },
  {
   "cell_type": "markdown",
   "metadata": {},
   "source": [
    "Used following command for bpe training:\n",
    "- subword-nmt-master\\learn_bpe.py -i data\\poems_clean.txt -o bpe_trained -s 10000"
   ]
  }
 ],
 "metadata": {
  "kernelspec": {
   "display_name": "Python 3",
   "language": "python",
   "name": "python3"
  },
  "language_info": {
   "codemirror_mode": {
    "name": "ipython",
    "version": 3
   },
   "file_extension": ".py",
   "mimetype": "text/x-python",
   "name": "python",
   "nbconvert_exporter": "python",
   "pygments_lexer": "ipython3",
   "version": "3.6.1"
  }
 },
 "nbformat": 4,
 "nbformat_minor": 2
}
